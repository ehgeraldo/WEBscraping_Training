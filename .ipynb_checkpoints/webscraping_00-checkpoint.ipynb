{
 "cells": [
  {
   "cell_type": "markdown",
   "id": "8fffe8cd",
   "metadata": {},
   "source": [
    "# DOCUMENTATION"
   ]
  },
  {
   "cell_type": "code",
   "execution_count": 2,
   "id": "7b1db8e3",
   "metadata": {
    "ExecuteTime": {
     "end_time": "2021-08-29T20:22:09.768026Z",
     "start_time": "2021-08-29T20:22:09.759437Z"
    }
   },
   "outputs": [],
   "source": [
    "#https://www.crummy.com/software/BeautifulSoup/bs4/doc/"
   ]
  },
  {
   "cell_type": "markdown",
   "id": "6fdf89ef",
   "metadata": {
    "ExecuteTime": {
     "end_time": "2021-08-29T20:55:41.163957Z",
     "start_time": "2021-08-29T20:55:41.155635Z"
    }
   },
   "source": [
    "# PIP INSTALL"
   ]
  },
  {
   "cell_type": "code",
   "execution_count": 2,
   "id": "71844898",
   "metadata": {
    "ExecuteTime": {
     "end_time": "2021-08-29T20:27:45.045193Z",
     "start_time": "2021-08-29T20:27:41.715280Z"
    }
   },
   "outputs": [
    {
     "name": "stdout",
     "output_type": "stream",
     "text": [
      "Collecting bs4\n",
      "  Downloading bs4-0.0.1.tar.gz (1.1 kB)\n",
      "Collecting beautifulsoup4\n",
      "  Downloading beautifulsoup4-4.9.3-py3-none-any.whl (115 kB)\n",
      "\u001b[K     |████████████████████████████████| 115 kB 3.4 MB/s eta 0:00:01\n",
      "\u001b[?25hCollecting soupsieve>1.2\n",
      "  Downloading soupsieve-2.2.1-py3-none-any.whl (33 kB)\n",
      "Building wheels for collected packages: bs4\n",
      "  Building wheel for bs4 (setup.py) ... \u001b[?25ldone\n",
      "\u001b[?25h  Created wheel for bs4: filename=bs4-0.0.1-py3-none-any.whl size=1272 sha256=c1fce266756b55b120b0574e2c7880652caedc2632e2daa32d3265e96d31562d\n",
      "  Stored in directory: /home/ehgeraldo/.cache/pip/wheels/73/2b/cb/099980278a0c9a3e57ff1a89875ec07bfa0b6fcbebb9a8cad3\n",
      "Successfully built bs4\n",
      "Installing collected packages: soupsieve, beautifulsoup4, bs4\n",
      "Successfully installed beautifulsoup4-4.9.3 bs4-0.0.1 soupsieve-2.2.1\n",
      "Note: you may need to restart the kernel to use updated packages.\n"
     ]
    }
   ],
   "source": [
    "pip install bs4"
   ]
  },
  {
   "cell_type": "markdown",
   "id": "6c2b79cd",
   "metadata": {
    "ExecuteTime": {
     "end_time": "2021-08-29T20:51:47.805199Z",
     "start_time": "2021-08-29T20:51:47.796800Z"
    }
   },
   "source": [
    "# IMPORTS"
   ]
  },
  {
   "cell_type": "markdown",
   "id": "857b5af9",
   "metadata": {
    "ExecuteTime": {
     "end_time": "2021-08-29T20:27:48.538470Z",
     "start_time": "2021-08-29T20:27:48.258570Z"
    }
   },
   "source": [
    "from bs4 import BeautifulSoup"
   ]
  },
  {
   "cell_type": "markdown",
   "id": "c59edeb7",
   "metadata": {
    "ExecuteTime": {
     "end_time": "2021-08-29T20:52:48.919396Z",
     "start_time": "2021-08-29T20:52:48.910371Z"
    }
   },
   "source": [
    "# WEBSCRAPING "
   ]
  },
  {
   "cell_type": "code",
   "execution_count": 4,
   "id": "a1e38b9a",
   "metadata": {
    "ExecuteTime": {
     "end_time": "2021-08-29T20:27:50.565543Z",
     "start_time": "2021-08-29T20:27:50.551820Z"
    }
   },
   "outputs": [],
   "source": [
    "html_doc = \"\"\"<html><head><title>The Dormouse's story</title></head>\n",
    "<body>\n",
    "<p class=\"title\"><b>The Dormouse's story</b></p>\n",
    "\n",
    "<p class=\"story\">Once upon a time there were three little sisters; and their names were\n",
    "<a href=\"http://example.com/elsie\" class=\"sister\" id=\"link1\">Elsie</a>,\n",
    "<a href=\"http://example.com/lacie\" class=\"sister\" id=\"link2\">Lacie</a> and\n",
    "<a href=\"http://example.com/tillie\" class=\"sister\" id=\"link3\">Tillie</a>;\n",
    "and they lived at the bottom of a well.</p>\n",
    "\n",
    "<p class=\"story\">...</p>\n",
    "\"\"\""
   ]
  },
  {
   "cell_type": "code",
   "execution_count": 5,
   "id": "643d8d81",
   "metadata": {
    "ExecuteTime": {
     "end_time": "2021-08-29T20:28:39.002679Z",
     "start_time": "2021-08-29T20:28:38.992542Z"
    }
   },
   "outputs": [],
   "source": [
    "soup = BeautifulSoup( html_doc, 'html.parser')"
   ]
  },
  {
   "cell_type": "code",
   "execution_count": 6,
   "id": "c98dc021",
   "metadata": {
    "ExecuteTime": {
     "end_time": "2021-08-29T20:28:48.056524Z",
     "start_time": "2021-08-29T20:28:48.016905Z"
    }
   },
   "outputs": [
    {
     "data": {
      "text/plain": [
       "<html><head><title>The Dormouse's story</title></head>\n",
       "<body>\n",
       "<p class=\"title\"><b>The Dormouse's story</b></p>\n",
       "<p class=\"story\">Once upon a time there were three little sisters; and their names were\n",
       "<a class=\"sister\" href=\"http://example.com/elsie\" id=\"link1\">Elsie</a>,\n",
       "<a class=\"sister\" href=\"http://example.com/lacie\" id=\"link2\">Lacie</a> and\n",
       "<a class=\"sister\" href=\"http://example.com/tillie\" id=\"link3\">Tillie</a>;\n",
       "and they lived at the bottom of a well.</p>\n",
       "<p class=\"story\">...</p>\n",
       "</body></html>"
      ]
     },
     "execution_count": 6,
     "metadata": {},
     "output_type": "execute_result"
    }
   ],
   "source": [
    "soup"
   ]
  },
  {
   "cell_type": "code",
   "execution_count": 7,
   "id": "df7f39b4",
   "metadata": {
    "ExecuteTime": {
     "end_time": "2021-08-29T20:43:17.707706Z",
     "start_time": "2021-08-29T20:43:17.688549Z"
    }
   },
   "outputs": [
    {
     "data": {
      "text/plain": [
       "<title>The Dormouse's story</title>"
      ]
     },
     "execution_count": 7,
     "metadata": {},
     "output_type": "execute_result"
    }
   ],
   "source": [
    "soup.title"
   ]
  },
  {
   "cell_type": "code",
   "execution_count": 8,
   "id": "fe6a0866",
   "metadata": {
    "ExecuteTime": {
     "end_time": "2021-08-29T20:43:35.483103Z",
     "start_time": "2021-08-29T20:43:35.458442Z"
    }
   },
   "outputs": [
    {
     "data": {
      "text/plain": [
       "<body>\n",
       "<p class=\"title\"><b>The Dormouse's story</b></p>\n",
       "<p class=\"story\">Once upon a time there were three little sisters; and their names were\n",
       "<a class=\"sister\" href=\"http://example.com/elsie\" id=\"link1\">Elsie</a>,\n",
       "<a class=\"sister\" href=\"http://example.com/lacie\" id=\"link2\">Lacie</a> and\n",
       "<a class=\"sister\" href=\"http://example.com/tillie\" id=\"link3\">Tillie</a>;\n",
       "and they lived at the bottom of a well.</p>\n",
       "<p class=\"story\">...</p>\n",
       "</body>"
      ]
     },
     "execution_count": 8,
     "metadata": {},
     "output_type": "execute_result"
    }
   ],
   "source": [
    "soup.body"
   ]
  },
  {
   "cell_type": "code",
   "execution_count": 11,
   "id": "96c72823",
   "metadata": {
    "ExecuteTime": {
     "end_time": "2021-08-29T20:48:06.931757Z",
     "start_time": "2021-08-29T20:48:06.914975Z"
    }
   },
   "outputs": [
    {
     "data": {
      "text/plain": [
       "[<p class=\"title\"><b>The Dormouse's story</b></p>,\n",
       " <p class=\"story\">Once upon a time there were three little sisters; and their names were\n",
       " <a class=\"sister\" href=\"http://example.com/elsie\" id=\"link1\">Elsie</a>,\n",
       " <a class=\"sister\" href=\"http://example.com/lacie\" id=\"link2\">Lacie</a> and\n",
       " <a class=\"sister\" href=\"http://example.com/tillie\" id=\"link3\">Tillie</a>;\n",
       " and they lived at the bottom of a well.</p>,\n",
       " <p class=\"story\">...</p>]"
      ]
     },
     "execution_count": 11,
     "metadata": {},
     "output_type": "execute_result"
    }
   ],
   "source": [
    "soup.find_all( 'p' )"
   ]
  },
  {
   "cell_type": "code",
   "execution_count": 12,
   "id": "623e4cb1",
   "metadata": {
    "ExecuteTime": {
     "end_time": "2021-08-29T20:48:32.492388Z",
     "start_time": "2021-08-29T20:48:32.472714Z"
    }
   },
   "outputs": [
    {
     "data": {
      "text/plain": [
       "<p class=\"title\"><b>The Dormouse's story</b></p>"
      ]
     },
     "execution_count": 12,
     "metadata": {},
     "output_type": "execute_result"
    }
   ],
   "source": [
    "soup.find_all( 'p')[0]"
   ]
  },
  {
   "cell_type": "code",
   "execution_count": 10,
   "id": "f7fac974",
   "metadata": {
    "ExecuteTime": {
     "end_time": "2021-08-29T20:46:02.497460Z",
     "start_time": "2021-08-29T20:46:02.479033Z"
    }
   },
   "outputs": [
    {
     "data": {
      "text/plain": [
       "[<p class=\"story\">Once upon a time there were three little sisters; and their names were\n",
       " <a class=\"sister\" href=\"http://example.com/elsie\" id=\"link1\">Elsie</a>,\n",
       " <a class=\"sister\" href=\"http://example.com/lacie\" id=\"link2\">Lacie</a> and\n",
       " <a class=\"sister\" href=\"http://example.com/tillie\" id=\"link3\">Tillie</a>;\n",
       " and they lived at the bottom of a well.</p>,\n",
       " <p class=\"story\">...</p>]"
      ]
     },
     "execution_count": 10,
     "metadata": {},
     "output_type": "execute_result"
    }
   ],
   "source": [
    "soup.find_all( 'p', class_='story')"
   ]
  },
  {
   "cell_type": "code",
   "execution_count": 13,
   "id": "b4e73887",
   "metadata": {
    "ExecuteTime": {
     "end_time": "2021-08-29T20:49:49.323691Z",
     "start_time": "2021-08-29T20:49:49.294671Z"
    }
   },
   "outputs": [
    {
     "data": {
      "text/plain": [
       "[<a class=\"sister\" href=\"http://example.com/lacie\" id=\"link2\">Lacie</a>]"
      ]
     },
     "execution_count": 13,
     "metadata": {},
     "output_type": "execute_result"
    }
   ],
   "source": [
    "soup.find_all( 'a', id='link2')"
   ]
  },
  {
   "cell_type": "code",
   "execution_count": 19,
   "id": "41e30711",
   "metadata": {
    "ExecuteTime": {
     "end_time": "2021-08-29T20:54:08.957043Z",
     "start_time": "2021-08-29T20:54:08.943843Z"
    }
   },
   "outputs": [
    {
     "data": {
      "text/plain": [
       "[<a class=\"sister\" href=\"http://example.com/tillie\" id=\"link3\">Tillie</a>]"
      ]
     },
     "execution_count": 19,
     "metadata": {},
     "output_type": "execute_result"
    }
   ],
   "source": [
    "soup.find_all( 'a', id='link3')"
   ]
  },
  {
   "cell_type": "code",
   "execution_count": null,
   "id": "0001767b",
   "metadata": {},
   "outputs": [],
   "source": []
  },
  {
   "cell_type": "code",
   "execution_count": null,
   "id": "8faa1b50",
   "metadata": {},
   "outputs": [],
   "source": []
  },
  {
   "cell_type": "code",
   "execution_count": null,
   "id": "f03bc56c",
   "metadata": {},
   "outputs": [],
   "source": []
  },
  {
   "cell_type": "code",
   "execution_count": null,
   "id": "bf1ae88e",
   "metadata": {},
   "outputs": [],
   "source": []
  },
  {
   "cell_type": "code",
   "execution_count": null,
   "id": "958ad5b3",
   "metadata": {},
   "outputs": [],
   "source": []
  },
  {
   "cell_type": "code",
   "execution_count": null,
   "id": "949bbfc3",
   "metadata": {},
   "outputs": [],
   "source": []
  }
 ],
 "metadata": {
  "kernelspec": {
   "display_name": "Python 3 (ipykernel)",
   "language": "python",
   "name": "python3"
  },
  "language_info": {
   "codemirror_mode": {
    "name": "ipython",
    "version": 3
   },
   "file_extension": ".py",
   "mimetype": "text/x-python",
   "name": "python",
   "nbconvert_exporter": "python",
   "pygments_lexer": "ipython3",
   "version": "3.9.5"
  },
  "toc": {
   "base_numbering": 1,
   "nav_menu": {},
   "number_sections": true,
   "sideBar": true,
   "skip_h1_title": false,
   "title_cell": "Table of Contents",
   "title_sidebar": "Contents",
   "toc_cell": false,
   "toc_position": {},
   "toc_section_display": true,
   "toc_window_display": false
  }
 },
 "nbformat": 4,
 "nbformat_minor": 5
}
